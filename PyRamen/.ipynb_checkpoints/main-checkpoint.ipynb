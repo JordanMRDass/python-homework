{
 "cells": [
  {
   "cell_type": "code",
   "execution_count": 37,
   "id": "59638434-0171-469a-bb1a-7e69aceccc1d",
   "metadata": {},
   "outputs": [],
   "source": [
    "import pandas as pd\n",
    "report = {}\n",
    "\n",
    "sales = pd.read_csv('sales_data.csv')\n",
    "menu = pd.read_csv('menu_data.csv')\n",
    "\n",
    "item_menu = list(menu[\"item\"])\n",
    "price = menu[\"price\"]\n",
    "cost = menu[\"cost\"]\n",
    "\n",
    "quantity = sales[\"Quantity\"]\n",
    "item_sales = sales[\"Menu_Item\"]\n",
    "\n",
    "\n",
    "for item in item_sales:\n",
    "    if item in item_menu:\n",
    "        report[item] = {\n",
    "        \"01-count\": 0,\n",
    "        \"02-revenue\": 0,\n",
    "        \"03-cogs\": 0,\n",
    "        \"04-profit\": 0,\n",
    "        }\n",
    "    \n",
    "for i, p, c, q in zip(item_sales, price, cost, quantity):\n",
    "    if i not in item_menu:\n",
    "        print(f\"{i} not in menu! NO MATCH!\")\n",
    "\n",
    "    else:\n",
    "        report[i][\"01-count\"] += q\n",
    "        report[i][\"02-revenue\"] += p * q\n",
    "        report[i][\"03-cogs\"] += c * q\n",
    "        report[i][\"04-profit\"] += (p - c) * q\n",
    "    \n",
    "\n",
    "with open('report.txt', 'w') as w:\n",
    "    for it in report.keys():\n",
    "        w.writelines(f\"{it} {report[it]}\")\n",
    "        w.write('\\n')\n"
   ]
  },
  {
   "cell_type": "code",
   "execution_count": null,
   "id": "8e021c1d-80c7-44f5-b7ec-30db1732a8e7",
   "metadata": {},
   "outputs": [],
   "source": []
  }
 ],
 "metadata": {
  "kernelspec": {
   "display_name": "Python 3 (ipykernel)",
   "language": "python",
   "name": "python3"
  },
  "language_info": {
   "codemirror_mode": {
    "name": "ipython",
    "version": 3
   },
   "file_extension": ".py",
   "mimetype": "text/x-python",
   "name": "python",
   "nbconvert_exporter": "python",
   "pygments_lexer": "ipython3",
   "version": "3.8.8"
  }
 },
 "nbformat": 4,
 "nbformat_minor": 5
}
