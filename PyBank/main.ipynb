{
 "cells": [
  {
   "cell_type": "code",
   "execution_count": 17,
   "id": "c5959b41-e311-4d43-9d87-374f451a064a",
   "metadata": {},
   "outputs": [
    {
     "name": "stdout",
     "output_type": "stream",
     "text": [
      "Financial Analysis\n",
      "----------------------------\n",
      "Total Months: 86\n",
      "Total: $1170593\n",
      "Average  Change: $446309.0465116279\n",
      "Greatest Increase in Profits: Feb-2012 ($1170593)\n",
      "Greatest Decrease in Profits: Sep-2013 ($-1196225)\n"
     ]
    }
   ],
   "source": [
    "import pandas as pd\n",
    "import statistics\n",
    "\n",
    "df = pd.read_csv('budget_data.csv')\n",
    "num_of_months = len(list(df['Date']))\n",
    "net_pl = sum(list(df['Profit/Losses']))\n",
    "avg_pl = statistics.mean(list(df['Profit/Losses']))\n",
    "max_pl = max(list(df['Profit/Losses']))\n",
    "min_pl = min(list(df['Profit/Losses']))\n",
    "\n",
    "max_num = list(df['Profit/Losses']).index(max_pl)\n",
    "max_date = list(df['Date'])[max_num]\n",
    "\n",
    "min_num = list(df['Profit/Losses']).index(min_pl)\n",
    "min_date = list(df['Date'])[min_num]\n",
    "\n",
    "net_pl_ = 0\n",
    "count = 0\n",
    "min_pl_, max_pl_ = list(df['Profit/Losses'])[0], list(df['Profit/Losses'])[0]\n",
    "\n",
    "for num, month in zip(list(df['Profit/Losses']), list(df['Date'])):\n",
    "    net_pl_ += num\n",
    "    count += 1\n",
    "    if num > max_pl_:\n",
    "        max_pl_ = num\n",
    "        max_date_ = month\n",
    "        \n",
    "    if num < min_pl_:\n",
    "        min_pl_ = num\n",
    "        min_date_ = month\n",
    "\n",
    "print('Financial Analysis')\n",
    "print('----------------------------')\n",
    "print(f'Total Months: {num_of_months}')\n",
    "print(f'Total: ${max_pl}')\n",
    "print(f'Average  Change: ${avg_pl}')\n",
    "print(f'Greatest Increase in Profits: {max_date_} (${max_pl_})')\n",
    "print(f'Greatest Decrease in Profits: {min_date_} (${min_pl_})')\n",
    "\n"
   ]
  },
  {
   "cell_type": "code",
   "execution_count": null,
   "id": "8ce411b5-74a3-443d-9065-5c0aff9138a1",
   "metadata": {},
   "outputs": [],
   "source": []
  }
 ],
 "metadata": {
  "kernelspec": {
   "display_name": "Python 3 (ipykernel)",
   "language": "python",
   "name": "python3"
  },
  "language_info": {
   "codemirror_mode": {
    "name": "ipython",
    "version": 3
   },
   "file_extension": ".py",
   "mimetype": "text/x-python",
   "name": "python",
   "nbconvert_exporter": "python",
   "pygments_lexer": "ipython3",
   "version": "3.8.8"
  }
 },
 "nbformat": 4,
 "nbformat_minor": 5
}
